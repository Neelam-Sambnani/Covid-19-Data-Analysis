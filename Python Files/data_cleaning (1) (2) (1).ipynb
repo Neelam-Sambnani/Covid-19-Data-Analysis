{
 "cells": [
  {
   "cell_type": "code",
   "execution_count": 1,
   "metadata": {},
   "outputs": [],
   "source": [
    "# data_min_meta.csv\n",
    "# data_min_total.csv\n",
    "# timeseries.csv\n",
    "# data_min_delta.csv\n",
    "# data_min_delta7.csv\n",
    "# data_min_delta21_14.csv\n",
    "# data_min_districts.csv"
   ]
  },
  {
   "cell_type": "markdown",
   "metadata": {},
   "source": [
    "# Importing Pandas Library to read all csv files and read all files"
   ]
  },
  {
   "cell_type": "code",
   "execution_count": null,
   "metadata": {},
   "outputs": [],
   "source": [
    "import pandas as pd\n",
    "\n",
    "data_min_meta = pd.read_csv(\"data//data_min_meta.csv\")\n",
    "data_min_total = pd.read_csv(\"data//data_min_total.csv\")\n",
    "timeseries = pd.read_csv(\"data//timeseries.csv\")\n",
    "data_min_delta = pd.read_csv(\"data//data_min_delta.csv\")\n",
    "data_min_delta7 = pd.read_csv(\"data//data_min_delta7.csv\")\n",
    "data_min_delta21_14 = pd.read_csv(\"data//data_min_delta21_14.csv\")\n",
    "data_min_districts_new1 = pd.read_csv(\"data//data_min_districts_new1.csv\")"
   ]
  },
  {
   "cell_type": "markdown",
   "metadata": {},
   "source": [
    "# Read top 5 rows"
   ]
  },
  {
   "cell_type": "code",
   "execution_count": null,
   "metadata": {},
   "outputs": [],
   "source": [
    "data_min_meta.head()"
   ]
  },
  {
   "cell_type": "markdown",
   "metadata": {},
   "source": [
    "# Show data for a specific date"
   ]
  },
  {
   "cell_type": "code",
   "execution_count": null,
   "metadata": {},
   "outputs": [],
   "source": [
    "data_min_meta[[\"date\"]] = \"31-10-2021\""
   ]
  },
  {
   "cell_type": "markdown",
   "metadata": {},
   "source": [
    "# keep only - state, date, population and convert into csv file"
   ]
  },
  {
   "cell_type": "code",
   "execution_count": null,
   "metadata": {},
   "outputs": [],
   "source": [
    "data_min_meta[[\"States\", \"date\", \"population\"]].to_csv(\"cleaned_data//data_min_meta.csv\", index=False)"
   ]
  },
  {
   "cell_type": "markdown",
   "metadata": {},
   "source": [
    "# top 5 rows"
   ]
  },
  {
   "cell_type": "code",
   "execution_count": null,
   "metadata": {},
   "outputs": [],
   "source": [
    "data_min_total.head()"
   ]
  },
  {
   "cell_type": "markdown",
   "metadata": {},
   "source": [
    "# remove= other column"
   ]
  },
  {
   "cell_type": "code",
   "execution_count": null,
   "metadata": {},
   "outputs": [],
   "source": [
    "data_min_total.drop([\"other\"], axis=1).to_csv(\"cleaned_data//data_min_total.csv\", index=False)\n",
    "data_min_total.drop([\"other\"], axis=1)"
   ]
  },
  {
   "cell_type": "markdown",
   "metadata": {},
   "source": [
    "# Top 5 rows"
   ]
  },
  {
   "cell_type": "code",
   "execution_count": null,
   "metadata": {},
   "outputs": [],
   "source": [
    "data_min_delta.head()"
   ]
  },
  {
   "cell_type": "code",
   "execution_count": null,
   "metadata": {},
   "outputs": [],
   "source": [
    "# Removed Unnecessary columns \n",
    "\n",
    "data_min_delta.drop([\"other\"], axis=1).fillna(0).to_csv(\"cleaned_data//data_min_delta.csv\", index=False)\n",
    "\n",
    "# Replaced null values with zero\n",
    "\n",
    "data_min_delta.drop([\"other\"], axis=1).fillna(0)"
   ]
  },
  {
   "cell_type": "code",
   "execution_count": null,
   "metadata": {},
   "outputs": [],
   "source": [
    "# Top 5 rows\n",
    "\n",
    "data_min_delta7.head()"
   ]
  },
  {
   "cell_type": "markdown",
   "metadata": {},
   "source": [
    "# Drop other column and fill null values with zero"
   ]
  },
  {
   "cell_type": "code",
   "execution_count": null,
   "metadata": {},
   "outputs": [],
   "source": [
    "data_min_delta7.drop([\"other\"], axis=1).fillna(0).to_csv(\"cleaned_data//data_min_delta7.csv\", index=False)\n",
    "data_min_delta7.drop([\"other\"], axis=1).fillna(0)"
   ]
  },
  {
   "cell_type": "markdown",
   "metadata": {},
   "source": [
    "# Top 5 rows"
   ]
  },
  {
   "cell_type": "code",
   "execution_count": null,
   "metadata": {},
   "outputs": [],
   "source": [
    "data_min_delta21_14.head()"
   ]
  },
  {
   "cell_type": "markdown",
   "metadata": {},
   "source": [
    "# Replace null values with zero and convert into csv"
   ]
  },
  {
   "cell_type": "code",
   "execution_count": null,
   "metadata": {},
   "outputs": [],
   "source": [
    "data_min_delta21_14.fillna(0).to_csv(\"cleaned_data//data_min_delta21_14.csv\", index=False)\n",
    "data_min_delta21_14.fillna(0)"
   ]
  },
  {
   "cell_type": "code",
   "execution_count": null,
   "metadata": {},
   "outputs": [],
   "source": [
    "# Read csv\n",
    "\n",
    "data_min_districts_new1 = pd.read_csv(\"data//data_min_districts_new1.csv\")\n",
    "\n",
    "# Top 5 rows\n",
    "\n",
    "data_min_districts_new1.head()"
   ]
  },
  {
   "cell_type": "markdown",
   "metadata": {},
   "source": [
    "# Check null values"
   ]
  },
  {
   "cell_type": "code",
   "execution_count": null,
   "metadata": {},
   "outputs": [],
   "source": [
    "data_min_districts_new1.isnull().sum()"
   ]
  },
  {
   "cell_type": "markdown",
   "metadata": {},
   "source": [
    "# correcting the Date Format\n"
   ]
  },
  {
   "cell_type": "code",
   "execution_count": null,
   "metadata": {},
   "outputs": [],
   "source": [
    "data_min_districts_new1[\"meta_tested\"] = data_min_districts_new1[\"meta_tested\"].str.replace(\"/\",\"-\")"
   ]
  },
  {
   "cell_type": "markdown",
   "metadata": {},
   "source": [
    "# Check meta_tested column"
   ]
  },
  {
   "cell_type": "code",
   "execution_count": null,
   "metadata": {},
   "outputs": [],
   "source": [
    "data_min_districts_new1[\"meta_tested\"]"
   ]
  },
  {
   "cell_type": "code",
   "execution_count": null,
   "metadata": {},
   "outputs": [],
   "source": [
    "# Replace null with zero\n",
    "\n",
    "data_min_districts_new1.fillna(0).to_csv(\"cleaned_data//data_min_districts.csv\", index=False)\n",
    "data_min_districts_new1.fillna(0)"
   ]
  },
  {
   "cell_type": "code",
   "execution_count": null,
   "metadata": {},
   "outputs": [],
   "source": [
    "# Read timeseries Data\n",
    "\n",
    "timeseries = pd.read_csv(\"data//timeseries.csv\")\n",
    "\n",
    "timeseries"
   ]
  },
  {
   "cell_type": "code",
   "execution_count": null,
   "metadata": {},
   "outputs": [],
   "source": [
    "# Check null values\n",
    "\n",
    "timeseries.isnull().sum()"
   ]
  },
  {
   "cell_type": "markdown",
   "metadata": {},
   "source": [
    "# Drop unnecessary columns"
   ]
  },
  {
   "cell_type": "code",
   "execution_count": null,
   "metadata": {},
   "outputs": [],
   "source": [
    "timeseries.drop([\"delta_population\", \"delta7_population\", \"total_population\"], axis= 1).fillna(0).to_csv(\"cleaned_data//timeseries.csv\", index=False)\n",
    "timeseries.drop([\"delta_population\", \"delta7_population\", \"total_population\"], axis= 1).fillna(0)"
   ]
  },
  {
   "cell_type": "markdown",
   "metadata": {},
   "source": [
    "# Check null values and replace null with 0"
   ]
  },
  {
   "cell_type": "code",
   "execution_count": null,
   "metadata": {},
   "outputs": [],
   "source": [
    "timeseries.drop([\"delta_population\", \"delta7_population\", \"total_population\"], axis= 1).fillna(0).isnull().sum()"
   ]
  }
 ],
 "metadata": {
  "kernelspec": {
   "display_name": "Python 3 (ipykernel)",
   "language": "python",
   "name": "python3"
  },
  "language_info": {
   "codemirror_mode": {
    "name": "ipython",
    "version": 3
   },
   "file_extension": ".py",
   "mimetype": "text/x-python",
   "name": "python",
   "nbconvert_exporter": "python",
   "pygments_lexer": "ipython3",
   "version": "3.11.3"
  }
 },
 "nbformat": 4,
 "nbformat_minor": 2
}
